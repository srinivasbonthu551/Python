{
 "cells": [
  {
   "cell_type": "markdown",
   "id": "2dcb8da6",
   "metadata": {},
   "source": [
    "# Lambda Function\n"
   ]
  },
  {
   "cell_type": "code",
   "execution_count": 1,
   "id": "5c51460e",
   "metadata": {},
   "outputs": [
    {
     "data": {
      "text/plain": [
       "6"
      ]
     },
     "execution_count": 1,
     "metadata": {},
     "output_type": "execute_result"
    }
   ],
   "source": [
    "def addition(a,b):\n",
    "    return a+b\n",
    "addition(2,4)"
   ]
  },
  {
   "cell_type": "code",
   "execution_count": 5,
   "id": "3d059a37",
   "metadata": {},
   "outputs": [],
   "source": [
    "addition1 = lambda a,b:a+b"
   ]
  },
  {
   "cell_type": "code",
   "execution_count": 6,
   "id": "ee0f83cf",
   "metadata": {},
   "outputs": [
    {
     "data": {
      "text/plain": [
       "26"
      ]
     },
     "execution_count": 6,
     "metadata": {},
     "output_type": "execute_result"
    }
   ],
   "source": [
    "addition1(12,14)"
   ]
  },
  {
   "cell_type": "code",
   "execution_count": 7,
   "id": "089dc8db",
   "metadata": {},
   "outputs": [
    {
     "data": {
      "text/plain": [
       "True"
      ]
     },
     "execution_count": 7,
     "metadata": {},
     "output_type": "execute_result"
    }
   ],
   "source": [
    "even = lambda a:a%2==0\n",
    "even(12)"
   ]
  },
  {
   "cell_type": "code",
   "execution_count": 9,
   "id": "f484d297",
   "metadata": {},
   "outputs": [
    {
     "data": {
      "text/plain": [
       "False"
      ]
     },
     "execution_count": 9,
     "metadata": {},
     "output_type": "execute_result"
    }
   ],
   "source": [
    "even(51)"
   ]
  },
  {
   "cell_type": "markdown",
   "id": "14a820a6",
   "metadata": {},
   "source": [
    "# Map Function"
   ]
  },
  {
   "cell_type": "code",
   "execution_count": 58,
   "id": "4e517ad4",
   "metadata": {},
   "outputs": [],
   "source": [
    "def even_or_odd(num):\n",
    "    if num%2==0:\n",
    "        return \"{} is even\".format(num)\n",
    "    else:\n",
    "        return \"{} is odd\".format(num) \n",
    "    \n",
    "    \n",
    "    \n",
    "   "
   ]
  },
  {
   "cell_type": "code",
   "execution_count": 59,
   "id": "7679f24e",
   "metadata": {},
   "outputs": [
    {
     "data": {
      "text/plain": [
       "'24 is even'"
      ]
     },
     "execution_count": 59,
     "metadata": {},
     "output_type": "execute_result"
    }
   ],
   "source": [
    "even_or_odd(24)"
   ]
  },
  {
   "cell_type": "code",
   "execution_count": 60,
   "id": "a4d8afdb",
   "metadata": {},
   "outputs": [],
   "source": [
    "my_list=[1,2,3,45,6,7,76,34,23]"
   ]
  },
  {
   "cell_type": "code",
   "execution_count": 61,
   "id": "a3f3127d",
   "metadata": {},
   "outputs": [],
   "source": [
    "\n",
    "y = tuple(map(even_or_odd,my_list))\n"
   ]
  },
  {
   "cell_type": "code",
   "execution_count": 62,
   "id": "a909bf55",
   "metadata": {},
   "outputs": [
    {
     "name": "stdout",
     "output_type": "stream",
     "text": [
      "('1 is odd', '2 is even', '3 is odd', '45 is odd', '6 is even', '7 is odd', '76 is even', '34 is even', '23 is odd')\n"
     ]
    }
   ],
   "source": [
    "print(y)"
   ]
  },
  {
   "cell_type": "code",
   "execution_count": null,
   "id": "c6ca142f",
   "metadata": {
    "scrolled": true
   },
   "outputs": [],
   "source": []
  },
  {
   "cell_type": "markdown",
   "id": "5fec558f",
   "metadata": {},
   "source": [
    "# Filter Function\n"
   ]
  },
  {
   "cell_type": "code",
   "execution_count": 63,
   "id": "1a9a1330",
   "metadata": {},
   "outputs": [],
   "source": [
    "list=[1,2,3,45,6,7,76,34,23]"
   ]
  },
  {
   "cell_type": "code",
   "execution_count": 64,
   "id": "8a690bf1",
   "metadata": {},
   "outputs": [
    {
     "data": {
      "text/plain": [
       "(2, 6, 76, 34)"
      ]
     },
     "execution_count": 64,
     "metadata": {},
     "output_type": "execute_result"
    }
   ],
   "source": [
    "tuple(filter(lambda num : num%2==0 ,list))"
   ]
  },
  {
   "cell_type": "code",
   "execution_count": null,
   "id": "8d310fcd",
   "metadata": {},
   "outputs": [],
   "source": []
  }
 ],
 "metadata": {
  "kernelspec": {
   "display_name": "Python 3 (ipykernel)",
   "language": "python",
   "name": "python3"
  },
  "language_info": {
   "codemirror_mode": {
    "name": "ipython",
    "version": 3
   },
   "file_extension": ".py",
   "mimetype": "text/x-python",
   "name": "python",
   "nbconvert_exporter": "python",
   "pygments_lexer": "ipython3",
   "version": "3.10.9"
  }
 },
 "nbformat": 4,
 "nbformat_minor": 5
}
